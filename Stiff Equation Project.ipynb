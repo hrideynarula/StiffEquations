{
 "cells": [
  {
   "cell_type": "markdown",
   "id": "9e5fe656",
   "metadata": {},
   "source": [
    "# Failure of Conventional Numerical Methods for Stiff Equations\n",
    "\n",
    "## Jupyter Notebook by Hridey Narula"
   ]
  },
  {
   "cell_type": "markdown",
   "id": "66c5e8cb",
   "metadata": {},
   "source": [
    "## Introduction\n",
    ">A problem worthy of attack, proves its worth by fighting back."
   ]
  },
  {
   "cell_type": "markdown",
   "id": "14b4941b",
   "metadata": {},
   "source": [
    "In Physics and Chemistry, one almost always encounters differential equations that describe the dynamics of the system. More often than not, these differential equations can not be (atleast completely) solved analytically. In such cases, it is of extreme importance to construct robust numerical algorithms capable of solving the differential equations.\n",
    "The numerical methods for differentiation stem from the same basic logic. Consider the following differential equation, variants of which appear in chemical kinetics, stochastic processes, radioactivity among other things,\n",
    "\n",
    "$$\n",
    "y' = ky\n",
    "$$\n",
    "\n",
    "where $k\\in \\mathbb{R}$. This equation has an analytical solution $y = y_0 e^{kx}$. But, we can also solve this equation numerically, by using the limit definition of the derivative,\n",
    "\n",
    "$$\n",
    "f'(x) = \\lim_{h\\to 0} \\frac{f(x+h) - f(x)}{h}.\n",
    "$$\n",
    "\n",
    "Some caveats should be pointed: this definition (called the forward derivative) is exact only when $h\\to 0$ and the derivative exists, otherwise there are alternative equivalent definitions, most commonly, the backward and central derivative schemes.\n",
    "To solve the above equation numerically, we make use of this definition, take $h$ to be sufficiently small, and write,\n",
    "\n",
    "$$\n",
    "\\begin{aligned}\n",
    "y_i &\\equiv& y(x=a+ih) \\\\\n",
    "y_{i+1} &=& hky_i+ y_{i}\n",
    "\\end{aligned}\n",
    "$$\n",
    "\n",
    "$a$ represents the initial point, at which we know the value of $y$ (\"the initial condition\")."
   ]
  },
  {
   "cell_type": "markdown",
   "id": "0e5d83f4",
   "metadata": {},
   "source": [
    "## Choosing h\n",
    "\n",
    "A question immediately arises, what do we take $h$? Is $h=0.1$ \"sufficiently\" small? Perhaps, $h=0.001$? \n",
    "As the saying goes, the devil lies in the details. We choose $h$ depending on the particulars of the system we are interested in.\n",
    "\n",
    "Let us start with the simplest possible example, the derivative is a constant.\n",
    "\n",
    "$$\n",
    "y' = 1,\\,y_0 = 0\n",
    "$$\n",
    "\n",
    "The analytic solution is trivial, $y=x$. But, suppose, we try to use the the above forward derivative scheme (dubbed the Euler method). We can write a small script, and solve the equation in the interval $x\\in[0,\\,10]$.\n",
    "\n",
    "First, let us import all the libraries that we will be needing."
   ]
  },
  {
   "cell_type": "code",
   "execution_count": 2,
   "id": "34e4d4e1",
   "metadata": {},
   "outputs": [],
   "source": [
    "import numpy as np #For handling arrays (matrices)\n",
    "from matplotlib import pyplot as py #For plotting our solution\n",
    "from scipy.integrate import solve_ivp #For library numerical method\n",
    "from scipy.optimize import curve_fit #For fitting curves if needed"
   ]
  },
  {
   "cell_type": "code",
   "execution_count": 3,
   "id": "3e15f015",
   "metadata": {},
   "outputs": [
    {
     "data": {
      "image/png": "[encoded data removed]",
      "text/plain": [
       "<Figure size 432x288 with 1 Axes>"
      ]
     },
     "metadata": {
      "needs_background": "light"
     },
     "output_type": "display_data"
    }
   ],
   "source": [
    "h = 0.1\n",
    "Steps = int((10-0)/h) + 1 #Plus 1 because we want solution at y=10 too.\n",
    "X = np.linspace(0, 10, Steps)\n",
    "Y = [0]\n",
    "for i in range(Steps-1): #because at i-th step loop evaluates i+1-th y.\n",
    "    Y.append(h*1 + Y[-1])\n",
    "    \n",
    "py.plot(X, Y, label=\"Numerical\")\n",
    "py.plot(X, X, label = \"Analytical\")\n",
    "py.grid()\n",
    "py.xlabel('x->')\n",
    "py.ylabel(\"y->\")\n",
    "py.legend()\n",
    "py.show()"
   ]
  },
  {
   "cell_type": "markdown",
   "id": "3d2e3b7b",
   "metadata": {},
   "source": [
    "Both the graphs are identical! This seems to imply (as our intuition suggests) that no matter what $h$ we take for *this* problem, we would always get the analytical solution. Before we proceed to check this, let us write the above code in a neat function."
   ]
  },
  {
   "cell_type": "code",
   "execution_count": 4,
   "id": "36a793f2",
   "metadata": {},
   "outputs": [],
   "source": [
    "def EulerSingle(func, yi, xi, xf, steps):\n",
    "    '''DOCSTRING for EulerSingle()\n",
    "    The function solve a first order ODE y' = f(x, y).\n",
    "    Input: (f, yi, xi, xf, steps)\n",
    "    f: The function f(x, y)\n",
    "    yi: Initial Condition\n",
    "    xi: Initial x\n",
    "    xf: Final x\n",
    "    steps: Steps taken form xi to xf.\n",
    "    \n",
    "    The function returns two 1-D arrays, containing the x-points and the numerically obtained y-values at those points.\n",
    "    The method is Explicit Euler Method.\n",
    "    '''\n",
    "    delta_x = (xf-xi)/(steps-1)\n",
    "    XArray = np.linspace(xi, xf, steps)\n",
    "    YArray = np.zeros(steps)\n",
    "    YArray[0] = yi\n",
    "    for i in range(1, steps):\n",
    "        YArray[i] = YArray[i-1] + delta_x*func(XArray[i-1], YArray[i-1])\n",
    "    return XArray, YArray\n",
    "\n"
   ]
  },
  {
   "cell_type": "markdown",
   "id": "c7720c96",
   "metadata": {},
   "source": [
    "Instead of plotting the graph, we now compare the maximum absolute error obtained by using different $h$-values."
   ]
  },
  {
   "cell_type": "code",
   "execution_count": 5,
   "id": "403141f2",
   "metadata": {},
   "outputs": [
    {
     "name": "stdout",
     "output_type": "stream",
     "text": [
      "Error for h = 10 is 0.0\n",
      "Error for h = 1 is 0.0\n",
      "Error for h = 0.5 is 0.0\n"
     ]
    }
   ],
   "source": [
    "h_list =[10, 1, 0.5] #the h-values at which we want to check error.\n",
    "\n",
    "def func(x, y):\n",
    "    return 1\n",
    "\n",
    "for h in h_list:\n",
    "    xn, yn = EulerSingle(func, 0, 0, 10, steps = int((10-0)/h) + 1)\n",
    "    error = max(abs(yn-xn))\n",
    "    print(\"Error for h = \" + str(h) + \" is \" + str(error))"
   ]
  },
  {
   "cell_type": "markdown",
   "id": "7cbdb275",
   "metadata": {},
   "source": [
    "Clearly, the error does not depend on what $h$ value we take as we expected. In fact, the error *increases* when we decrease the step size, due to floating point error accumulation. But leaving aside this technicality for now, we move on to solve an infinitely more complicated problem (yet, again, trivial analytically):\n",
    "\n",
    "$$\n",
    "y' = x + 1,\\,  y_0 = 0\n",
    "$$"
   ]
  },
  {
   "cell_type": "markdown",
   "id": "287dd58e",
   "metadata": {},
   "source": [
    "The analytical solution is $y=x^2/2 + x$. Let use the same snippet as above and try to solve this."
   ]
  },
  {
   "cell_type": "code",
   "execution_count": 6,
   "id": "f65d7687",
   "metadata": {},
   "outputs": [
    {
     "name": "stdout",
     "output_type": "stream",
     "text": [
      "Error for h = 10 is 50.0\n",
      "Error for h = 1 is 5.0\n",
      "Error for h = 0.5 is 2.5\n",
      "Error for h = 0.1 is 0.5\n"
     ]
    }
   ],
   "source": [
    "h_list =[10, 1, 0.5, 0.1] #the h-values at which we want to check error.\n",
    "\n",
    "def func_C(x, y):\n",
    "    return x+1\n",
    "\n",
    "for h in h_list:\n",
    "    xn, yn = EulerSingle(func_C, 0, 0, 10, steps = int((10-0)/h) + 1)\n",
    "    error = max(abs(yn-xn*xn/2 - xn))\n",
    "    print(\"Error for h = \" + str(h) + \" is \" + str(error))"
   ]
  },
  {
   "cell_type": "markdown",
   "id": "2f2f992b",
   "metadata": {},
   "source": [
    "Whoa, the error now is *huge*. This very simple modification has indeed increased the complexity of the equation, by introducing a new (although very expected) feature, dependence of the solution (and error) on $h$. Let us make our code modular, and introduce a function for the above snippet as well."
   ]
  },
  {
   "cell_type": "code",
   "execution_count": 7,
   "id": "4ad19515",
   "metadata": {},
   "outputs": [],
   "source": [
    "def plotter(X, Y_C, Y_A, title = \"Title\"):\n",
    "    py.plot(X, Y_C, label=\"Numerical\")\n",
    "    py.plot(X, Y_A, label = \"Analytical\")\n",
    "    py.grid()\n",
    "    py.xlabel('x->')\n",
    "    py.title(title)\n",
    "    py.ylabel(\"y->\")\n",
    "    py.legend()\n",
    "    py.show()\n",
    "\n",
    "def ErrorCalc(func, yi, xi, xf, method, hlist, true, plot = False):\n",
    "    '''DOCSTRING for ErrorCalc()\n",
    "    The function solve a first order ODE y' = f(x, y).\n",
    "    Input: (f, yi, xi, xf, steps)\n",
    "    f: The function f(x, y)\n",
    "    yi: Initial Condition\n",
    "    xi: Initial x\n",
    "    xf: Final x\n",
    "    method: Which numerical method to employ\n",
    "    hlist: Evaluate error at which value of h\n",
    "    \n",
    "    The function plots a graph between error and h-value.\n",
    "    '''\n",
    "    er = []\n",
    "    for h in hlist:\n",
    "        xn, yn = method(func, yi, xi, xf, steps = int((xf-xi)/h) + 1)\n",
    "        error = max(abs(yn-true(xn)))\n",
    "        if plot:\n",
    "            title = \"h is \" + str(h)\n",
    "            py.plot(xn, yn, label = \"h= \" + str(h))\n",
    "        \n",
    "            #plotter(xn, yn, true(xn), title)\n",
    "        er.append(error)\n",
    "    if plot:\n",
    "        py.plot(xn, true(xn), label = \"Analytical\")\n",
    "        py.grid()\n",
    "        py.xlabel(\"x->\")\n",
    "        py.ylabel(\"y->\")\n",
    "        py.legend()\n",
    "        py.show()\n",
    "                  \n",
    "    py.plot(hlist, er)\n",
    "    py.xlabel('h->')\n",
    "    py.grid()\n",
    "    py.ylabel('Error->')\n",
    "    py.show()\n",
    "    return None\n",
    "    \n"
   ]
  },
  {
   "cell_type": "code",
   "execution_count": 8,
   "id": "32a81dfb",
   "metadata": {
    "scrolled": false
   },
   "outputs": [
    {
     "data": {
      "image/png": "[encoded data removed]",
      "text/plain": [
       "<Figure size 432x288 with 1 Axes>"
      ]
     },
     "metadata": {
      "needs_background": "light"
     },
     "output_type": "display_data"
    }
   ],
   "source": [
    "h_list = 10**np.linspace(-3, 0.2, 50)\n",
    "def an_C(x):\n",
    "    return x*x/2 + x \n",
    "ErrorCalc(func_C, 0, 0, 10, EulerSingle, h_list, an_C)"
   ]
  },
  {
   "cell_type": "markdown",
   "id": "79d85c00",
   "metadata": {},
   "source": [
    "We conclude that at low values of $h$ the error depends linearly on $h$ (roughly, $5h$). We can also check how the $h$ values change the numerical solution qualitatively."
   ]
  },
  {
   "cell_type": "code",
   "execution_count": 9,
   "id": "86553dcd",
   "metadata": {},
   "outputs": [
    {
     "name": "stdout",
     "output_type": "stream",
     "text": [
      "[1.e+01 2.e+00 1.e+00 1.e-01 1.e-03]\n"
     ]
    },
    {
     "data": {
      "image/png": "[encoded data removed]",
      "text/plain": [
       "<Figure size 432x288 with 1 Axes>"
      ]
     },
     "metadata": {
      "needs_background": "light"
     },
     "output_type": "display_data"
    },
    {
     "data": {
      "image/png": "[encoded data removed]",
      "text/plain": [
       "<Figure size 432x288 with 1 Axes>"
      ]
     },
     "metadata": {
      "needs_background": "light"
     },
     "output_type": "display_data"
    }
   ],
   "source": [
    "h_list2 = np.array([10, 2, 1, 0.1, 0.001])\n",
    "print(h_list2)\n",
    "ErrorCalc(func_C, 0, 0, 10, EulerSingle, h_list2, an_C, True)"
   ]
  },
  {
   "cell_type": "markdown",
   "id": "fe54ca17",
   "metadata": {},
   "source": [
    "Note that changing $h$ does not seem to change the qualitative nature of the solution, atleast when $h\\leq1$.\n",
    "\n",
    "Let us now make things more complicated. We eventually want to solve systems of differential equations of the following type:\n",
    "\n",
    "$$\n",
    "y' = ky\n",
    "$$\n",
    "\n",
    "Let us use our simple numerical method for this equation, for different values of $k$."
   ]
  },
  {
   "cell_type": "code",
   "execution_count": 10,
   "id": "9ae56772",
   "metadata": {},
   "outputs": [
    {
     "data": {
      "image/png": "[encoded data removed]",
      "text/plain": [
       "<Figure size 432x288 with 1 Axes>"
      ]
     },
     "metadata": {
      "needs_background": "light"
     },
     "output_type": "display_data"
    }
   ],
   "source": [
    "def an_F(x):\n",
    "    return np.exp(-x)\n",
    "def func_F(x, y):\n",
    "    return -y\n",
    "ErrorCalc(func_F, 1, 0, 10, EulerSingle, h_list, an_F)"
   ]
  },
  {
   "cell_type": "markdown",
   "id": "d6ff98d1",
   "metadata": {},
   "source": [
    "In this case, it seems that the error grows quicker than $h$."
   ]
  },
  {
   "cell_type": "markdown",
   "id": "84f9c574",
   "metadata": {},
   "source": [
    "Let us now again see if changing $h$ makes any qualitative difference in the numerical solution."
   ]
  },
  {
   "cell_type": "code",
   "execution_count": 11,
   "id": "33205450",
   "metadata": {},
   "outputs": [
    {
     "name": "stdout",
     "output_type": "stream",
     "text": [
      "[2.e+00 1.e+00 5.e-01 1.e-01 1.e-03]\n"
     ]
    },
    {
     "data": {
      "image/png": "[encoded data removed]",
      "text/plain": [
       "<Figure size 432x288 with 1 Axes>"
      ]
     },
     "metadata": {
      "needs_background": "light"
     },
     "output_type": "display_data"
    },
    {
     "data": {
      "image/png": "[encoded data removed]",
      "text/plain": [
       "<Figure size 432x288 with 1 Axes>"
      ]
     },
     "metadata": {
      "needs_background": "light"
     },
     "output_type": "display_data"
    }
   ],
   "source": [
    "h_list2 = np.array([2, 1, 0.5, 0.1, 0.001])\n",
    "print(h_list2)\n",
    "ErrorCalc(func_F, 1, 0, 10, EulerSingle, h_list2, an_F, True)"
   ]
  },
  {
   "cell_type": "markdown",
   "id": "da47ce4d",
   "metadata": {},
   "source": [
    "This result is very surprising! It seems that the solution is qualitatively *very* different from an exponential decay when $h$ is a little too large. \n",
    "This makes the decay equation *stiff* to solve numerically. Before looking into numerical methods for stiff equations, let us just try one thing, let us see how does maximum $h$ (which does not change the behavior) vary with $k$. For this, we use lambda functions."
   ]
  },
  {
   "cell_type": "code",
   "execution_count": 12,
   "id": "8855253a",
   "metadata": {},
   "outputs": [],
   "source": [
    "K_List = 10**np.linspace(0, 2, 80)\n",
    "h_ini = 1\n",
    "h_ans = [h_ini]\n",
    "xi = 0\n",
    "xf = 10\n",
    "yi = 1\n",
    "for K in K_List:\n",
    "    #print(K)\n",
    "    #input('c')\n",
    "    function = lambda xp, yp: -K*yp\n",
    "    h = h_ans[-1]\n",
    "    flag = False\n",
    "    while not flag:\n",
    "        try:\n",
    "            X, Y = EulerSingle(function, yi, xi, xf, steps = int((xf-xi)/h) + 1)\n",
    "        except ZeroDivisionError:\n",
    "            flag = True\n",
    "            h_ans.append(xf-xi)\n",
    "            break\n",
    "        if min(Y)>0:\n",
    "            flag = True\n",
    "            h_ans.append(h)\n",
    "            break\n",
    "        h = h/2\n",
    "            \n",
    "    \n"
   ]
  },
  {
   "cell_type": "code",
   "execution_count": 13,
   "id": "a50f0166",
   "metadata": {},
   "outputs": [
    {
     "data": {
      "image/png": "[encoded data removed]",
      "text/plain": [
       "<Figure size 432x288 with 1 Axes>"
      ]
     },
     "metadata": {
      "needs_background": "light"
     },
     "output_type": "display_data"
    }
   ],
   "source": [
    "py.plot(K_List, h_ans[1:])\n",
    "py.grid()\n",
    "py.xlabel(\"K->\")\n",
    "py.ylabel(\"h->\")\n",
    "#py.ylim((0, 0.1))\n",
    "py.title(\"h as a function of K\")\n",
    "py.show()"
   ]
  },
  {
   "cell_type": "markdown",
   "id": "bbb34280",
   "metadata": {},
   "source": [
    "As $k$ decreases, the maximum tolerated value of $h$ increases and vice-versa. \n",
    "The result that as $|k|$ increases, so that $y' \\sim 0$ the value of $h$ required decreases seems a litte counter-intuitive off-hand. One possible explanation can be that the exponential value becomes too small to be handled computationally. But that's not it, because even if we take into account the round-off and/or floating error (say, we do the numerical calculation by \"hand\") we still get such results. \n",
    "\n",
    "The equation in Euler's backward scheme is as follows,\n",
    "\n",
    "$$\n",
    "y_{n+1} = (1-kh)y_n\n",
    "$$\n",
    "\n",
    "Let $1-kh$ = $\\alpha$. Suppose, that $\\alpha>0$ but $<1$. In this regime, we simply get exponential decay as expected. Suppose, $\\alpha$ = 0, the solution then is a just 0 (which is obviously wrong). In the $\\alpha<0$ but $|\\alpha|<1$ regime, we get damped oscillations. However, in the final regime, where $\\alpha<-1$, the solutions are wildly oscillating. \n",
    "Note that, once we have fixed $k$, $\\alpha$ is determined by $h$. So changing the value of $h$ changes the *behavior* of the numerical solution drastically. Only the first regime corresponds to (qualitatively) correct behavior.\n",
    "\n",
    "The equations for which the above conclusions are true are called *stiff* equations, and the goal of this project is to compare different (standard) numerical methods for stiff equations, as well as point out couple of modifications to deal with the stiffness."
   ]
  },
  {
   "cell_type": "markdown",
   "id": "e898eb14",
   "metadata": {},
   "source": [
    "## Cure for Stiff Equations"
   ]
  },
  {
   "cell_type": "markdown",
   "id": "1180e551",
   "metadata": {},
   "source": [
    "### Defining Stiffness\n",
    "\n",
    "Before moving on to methods to curtail the stiffness, it will be appropriate to *define* stiffness. However, this is not an easy task, since stiffness is more of a \"philosophical\" idea rather than a methamatical one.\n",
    "\n",
    "We quote J. D. Lambert (from Numerical Methods for Ordinary Differential Systems):\n",
    ">If a numerical method with a finite region of absolute stability, applied to a system with any initial conditions, is forced to use in a certain interval of integration a step length which is excessively small in relation to the smoothness of the exact solution in that interval, then the system is said to be stiff in that interval.\n",
    "\n",
    "Note that, the it is not the *solution* that is stiff, but the differential system."
   ]
  },
  {
   "cell_type": "markdown",
   "id": "1744081e",
   "metadata": {},
   "source": [
    "Essentially, what the above definition means is, that despite our function being sufficiently smooth we require an extremely small $h$ than otherise would be expected from the smoothness of the solution.\n",
    "\n",
    "An appropriate measure for stiffness is called the *stiffness ratio*. Conisder the following set of differential equations for $y_1,\\,y_2....y_N \\equiv \\mathbf{y}$,\n",
    "\n",
    "$$\n",
    "\\mathbf{y}' = \\mathbf{A}\\mathbf{y} + \\mathbf{f}(x).\n",
    "$$\n",
    "\n",
    "The $\\mathbf{f}$ term is the inhomogenous term. Let us suppose that the solution of the above equation is of the form:\n",
    "\n",
    "\n",
    "$$\n",
    "\\mathbf{y}(x) = \\sum^{n}_{k=1} \\exp (\\lambda_k x)\\mathbf{c}_k + \\mathbf{g}(x).\n",
    "$$\n",
    "\n",
    "The $\\mathbf{g}$ is the *steady-state* solution, and the first part is the *transient*. This requires that as $x\\to\\infty$ for each $\\lambda_k$, $\\exp (\\lambda_k x)$ goes to 0. This decay is, obviously, dependent on the value $\\lambda_k$. This causes transients to be either fast, slow or somewhere in the middle. The equation is said to be stiff, if the fastest and slowest decay are orders of magnitude different,\n",
    "\n",
    "$$\n",
    "\\frac{\\max |\\lambda_k|}{\\min |\\lambda_k|} = \\gamma,\n",
    "$$\n",
    "\n",
    "where $\\gamma$ is the stiffness ratio, which allows us to characterize the stiffness of the differential equations.\n",
    "\n",
    "Again, note that this \"definition\" is not exact. There exist a lot of issues with this definition, especially when one of the eigenvalues is 0. This is somewhat expected, because then it is not a transient, but a component of the steady-state solution. More details and disucissions on defining stiffness can be found in JD Lambert's book, *Numerical Methods for Ordinary Differential Systems*. Let us now leave the issue of definiing stiffness, and discuss numerical methods to solve the stiff differential equations. "
   ]
  },
  {
   "cell_type": "markdown",
   "id": "43e341fc",
   "metadata": {},
   "source": [
    "### Implicit Methods\n",
    "\n",
    "Our Euler method is based on the forward derivative scheme. But we could also equally well use the backward derivative scheme,\n",
    "\n",
    "$$\n",
    "y_{n} = -hky_{n} + y_{n-1} \\implies y_n  = \\frac{y_{n-1}}{1+hk}\n",
    "$$\n",
    "\n",
    "Note that in this case no matter what is the value of $hk$, the solution is $always$ decaying. We can check this by writing a code for the implicit Euler method. "
   ]
  },
  {
   "cell_type": "code",
   "execution_count": 14,
   "id": "c53d974e",
   "metadata": {},
   "outputs": [],
   "source": [
    "def ImplicitForDecay(yi, xi, xf, delta_x, k):\n",
    "    '''DOCSTRING for ImplicitForDecay()\n",
    "    The function solve a the exponential decay first order ODE y' = -ky.\n",
    "    Input: (f, yi, xi, xf, steps)\n",
    "    yi: Initial Condition\n",
    "    xi: Initial x\n",
    "    xf: Final x\n",
    "    deltaX: The step-size\n",
    "    \n",
    "    The function returns two 1-D arrays, containing the x-points and the numerically obtained y-values at those points.\n",
    "    The method is Implicit Euler Method.\n",
    "    '''\n",
    "    steps = int((xf-xi)/delta_x) + 1\n",
    "    XArray = np.linspace(xi, xf, steps)\n",
    "    YArray = np.zeros(steps)\n",
    "    YArray[0] = yi\n",
    "    for i in range(1, steps):\n",
    "        YArray[i] = YArray[i-1]/(1 + delta_x*k)#func(XArray[i-1], YArray[i-1]))\n",
    "    return XArray, YArray\n",
    "    \n",
    "    "
   ]
  },
  {
   "cell_type": "code",
   "execution_count": 15,
   "id": "37296873",
   "metadata": {},
   "outputs": [
    {
     "data": {
      "image/png": "[encoded data removed]",
      "text/plain": [
       "<Figure size 432x288 with 1 Axes>"
      ]
     },
     "metadata": {
      "needs_background": "light"
     },
     "output_type": "display_data"
    }
   ],
   "source": [
    "h_list =[20, 1, 0.5]\n",
    "hList = 10**np.linspace(-3, 0, 50)\n",
    "errList = []\n",
    "k = 10\n",
    "\n",
    "for h in hList:\n",
    "    xn, yn = ImplicitForDecay(1, 0, 10, h, k)\n",
    "    error = max(abs(yn-np.exp(-k*xn)))\n",
    "    errList.append(error)\n",
    "\n",
    "py.plot(hList, errList)\n",
    "py.xlabel('h->')\n",
    "py.grid()\n",
    "py.ylabel('Error->')\n",
    "py.show()"
   ]
  },
  {
   "cell_type": "markdown",
   "id": "9e598e03",
   "metadata": {},
   "source": [
    "Note that the error is now not a simple monotonic function, but instead, it is something like $he^{-h}$. The peak's location is of the order of $1/k$."
   ]
  },
  {
   "cell_type": "markdown",
   "id": "a8b6e5fe",
   "metadata": {},
   "source": [
    "We can also generalize the above method for a system of coupled differential equations. Consider the following system,\n",
    "\n",
    "$$\n",
    "\\mathbf{y}' = -\\mathbf{C}\\cdot\\mathbf{y}.\n",
    "$$\n",
    "\n",
    "First, under explicit differencing,\n",
    "\n",
    "$$\n",
    "\\mathbf{y}_n = (\\mathbb{I}-h\\mathbf{C})^n \\cdot \\mathbf{y}_0.\n",
    "$$\n",
    "\n",
    "We can write the general solution in eigenbasis $\\{\\mathbf{e}_k\\}$ as follows,\n",
    "\n",
    "$$\n",
    "\\mathbf{y}_n = \\sum \\alpha_k (\\mathbb{I}-h\\lambda_k)^n \\cdot \\mathbf{e}_k.\n",
    "$$\n",
    "\n",
    "For stability, we have $|1-h\\lambda_k|<1,\\,\\forall k$. This immediately gives the constraint that $h\\lambda_{max} <2$.\n",
    "\n",
    "Let us now look at implicit differencing,\n",
    "\n",
    "\n",
    "$$\n",
    "\\mathbf{y}_n = (\\mathbb{I}+h\\mathbf{C})^{-n} \\cdot \\mathbf{y}_0.\n",
    "$$\n",
    "\n",
    "We can write the appropriate condition now as $|1+h\\lambda_k|>1,\\,\\forall k$, which is trivially true for all $h$. The cost is that we now have to invert a matrix at each step. In general (which we will not try to go too deep into in this report) for $\\mathbf{y}' = \\mathbf{f(\\mathbf{y})}$ we have to invert $\\mathbb{I}-h\\mathbb{J}$ at each time step, where $\\mathbb{J}$ is the Jacobian of $\\mathbf{f}$ with respect to $\\mathbf{y}$.\n",
    "\n",
    "\n"
   ]
  },
  {
   "cell_type": "markdown",
   "id": "5dd31623",
   "metadata": {},
   "source": [
    "## Solving Robertson's example\n",
    "\n",
    "The principal aim of this report is to compare different numerical methods for solving Robertson's example. \n",
    "The problem is as follows: Three chemicals $A,\\,B$ and $C$ are reacting as per the following equation,\n",
    "\n",
    "$$\n",
    "\\begin{aligned}\n",
    "\\dot{x_1} &=& -0.04x_1 +10^4 x_2x_3\\\\\n",
    "\\dot{x_2} &=& 0.04x_1 - 3.10^7 x_2^2 -10^4 x_2x_3\\\\\n",
    "\\dot{x_3} &=& 3.10^7 x_2 ^2\n",
    "\\end{aligned}\n",
    "$$\n",
    "\n",
    "This is an initial value problem, with $x_1(0) = 1$ and $x_2(0)=x_3(0)=0$.\n",
    "The chemical model is as follows,\n",
    "\n",
    "$$\n",
    "A \\to B \\\\\n",
    "2B \\to B + C\\\\\n",
    "B+C\\to A+C\n",
    "$$\n",
    "\n",
    "The reaction rates come from experiments, and clearly, differ vastly in the magnitude. For a general reaction, \n",
    "\n",
    "$$\n",
    "\\sum_i r_{ji} G_i \\to\\sum_i q_{ji} G_i.\n",
    "$$\n",
    "\n",
    "The coeffcient matrices $r_{ji}$ and $q_{ji}$ are the *stoichometric coefficients* of reaction $j$, which has reaction rate $k_j$. The left side is the depletion and the right side is the generation. The differential equation for this system is,\n",
    "\n",
    "$$\n",
    "\\dot{\\mathbf{x}} = \\mathbf{A} \\cdot \\mathbf{p}\n",
    "$$\n",
    "\n",
    "Note that $\\mathbf{A}$ need not be a square matrix. In fact, $\\mathbf{A} = \\mathbf{Q} - \\mathbf{R}$. The components of $\\mathbf{A}$ are called as stoichometric coefficients, and are either positive or negative depending on whether there is net generation or depletion of the reactant. The vector $\\mathbf{p}$ has components $p_j = k_j \\Pi_{i} x_i^{r_{ji}}$. In Robertson's problem, $m = n = 3$ and, \n",
    "\n",
    "$$\n",
    "\\mathbf{A} = \\begin{pmatrix}\n",
    "-1&0&1\\\\\n",
    "1&-1&-1\\\\\n",
    "0&1&0\n",
    "\\end{pmatrix}.\n",
    "$$\n",
    "\n",
    "The vector $\\mathbf{p}$ is,\n",
    "\n",
    "$$\n",
    "\\mathbf{p} = \\begin{pmatrix}\n",
    "0.04x_1\\\\\n",
    "3.10^7 x_2\\\\\n",
    "10^4 x_2x_3\n",
    "\\end{pmatrix}.\n",
    "$$\n",
    "\n",
    "The net sum $x_1 + x_2 + x_3 = 1$ at all times."
   ]
  },
  {
   "cell_type": "markdown",
   "id": "171cbd20",
   "metadata": {},
   "source": [
    "## Using different numerical methods\n",
    "\n",
    "We first define the \"big\" right side wrapped function as earlier."
   ]
  },
  {
   "cell_type": "code",
   "execution_count": 34,
   "id": "43f4cbb8",
   "metadata": {},
   "outputs": [],
   "source": [
    "def rightF(t, X):\n",
    "    x0 = -0.04*X[0] + (1e4)*X[1]*X[2]\n",
    "    x1 = 0.04*X[0] -3*(1e7)*(X[1]**2) -(1e4)*X[1]*X[2]\n",
    "    x2 = 3*(1e7)*(X[1]**2)\n",
    "    return np.array([x0, x1, x2])\n",
    "\n",
    "def Jacobi(t, X):\n",
    "    siz = len(X)\n",
    "    JJ = np.zeros((siz, siz))\n",
    "    JJ[0, 0] = - 0.04\n",
    "    JJ[1, 0] = 0.04\n",
    "    JJ[0, 1] = 1e4 * X[2]\n",
    "    JJ[0, 2] = 1e4 * X[1]\n",
    "    JJ[1, 2] = -1e4 * X[1]\n",
    "    JJ[1, 1] = -6e7 * X[1] -1e4*X[2]\n",
    "    JJ[2, 1] = 6e7*X[1]\n",
    "    \n",
    "    return JJ\n",
    "#print(Jacobi(0, [0, -1, 0]))\n",
    "ti = 0\n",
    "tf = 40\n",
    "X_i = np.array([0., 0.1, 0.9])"
   ]
  },
  {
   "cell_type": "code",
   "execution_count": 35,
   "id": "f8acf097",
   "metadata": {},
   "outputs": [
    {
     "name": "stdout",
     "output_type": "stream",
     "text": [
      "Rk4\n"
     ]
    },
    {
     "name": "stderr",
     "output_type": "stream",
     "text": [
      "c:\\users\\hridey\\appdata\\local\\programs\\python\\python39\\lib\\site-packages\\scipy\\integrate\\_ivp\\common.py:39: UserWarning: The following arguments have no effect for a chosen solver: `jac`.\n",
      "  warn(\"The following arguments have no effect for a chosen solver: {}.\"\n"
     ]
    },
    {
     "name": "stdout",
     "output_type": "stream",
     "text": [
      "Rk2\n"
     ]
    },
    {
     "ename": "KeyboardInterrupt",
     "evalue": "",
     "output_type": "error",
     "traceback": [
      "\u001b[1;31m---------------------------------------------------------------------------\u001b[0m",
      "\u001b[1;31mKeyboardInterrupt\u001b[0m                         Traceback (most recent call last)",
      "\u001b[1;32m~\\AppData\\Local\\Temp/ipykernel_12916/2179217292.py\u001b[0m in \u001b[0;36m<module>\u001b[1;34m\u001b[0m\n\u001b[0;32m      2\u001b[0m \u001b[0msolRK45\u001b[0m \u001b[1;33m=\u001b[0m \u001b[0msolve_ivp\u001b[0m\u001b[1;33m(\u001b[0m\u001b[0mrightF\u001b[0m\u001b[1;33m,\u001b[0m \u001b[1;33m(\u001b[0m\u001b[0mti\u001b[0m\u001b[1;33m,\u001b[0m \u001b[0mtf\u001b[0m\u001b[1;33m)\u001b[0m\u001b[1;33m,\u001b[0m \u001b[0mX_i\u001b[0m\u001b[1;33m,\u001b[0m \u001b[0mmethod\u001b[0m \u001b[1;33m=\u001b[0m \u001b[1;34m\"RK45\"\u001b[0m\u001b[1;33m,\u001b[0m \u001b[0mjac\u001b[0m \u001b[1;33m=\u001b[0m \u001b[0mJacobi\u001b[0m\u001b[1;33m)\u001b[0m\u001b[1;31m#, rtol=1e-5, atol=1e-7)\u001b[0m\u001b[1;33m\u001b[0m\u001b[1;33m\u001b[0m\u001b[0m\n\u001b[0;32m      3\u001b[0m \u001b[0mprint\u001b[0m\u001b[1;33m(\u001b[0m\u001b[1;34m\"Rk2\"\u001b[0m\u001b[1;33m)\u001b[0m\u001b[1;33m\u001b[0m\u001b[1;33m\u001b[0m\u001b[0m\n\u001b[1;32m----> 4\u001b[1;33m \u001b[0msolRK23\u001b[0m \u001b[1;33m=\u001b[0m \u001b[0msolve_ivp\u001b[0m\u001b[1;33m(\u001b[0m\u001b[0mrightF\u001b[0m\u001b[1;33m,\u001b[0m \u001b[1;33m(\u001b[0m\u001b[0mti\u001b[0m\u001b[1;33m,\u001b[0m \u001b[0mtf\u001b[0m\u001b[1;33m)\u001b[0m\u001b[1;33m,\u001b[0m \u001b[0mX_i\u001b[0m\u001b[1;33m,\u001b[0m \u001b[0mmethod\u001b[0m \u001b[1;33m=\u001b[0m \u001b[1;34m\"RK23\"\u001b[0m\u001b[1;33m,\u001b[0m \u001b[0mjac\u001b[0m \u001b[1;33m=\u001b[0m \u001b[0mJacobi\u001b[0m\u001b[1;33m)\u001b[0m\u001b[1;31m#, rtol=1e-5, atol=1e-7)\u001b[0m\u001b[1;33m\u001b[0m\u001b[1;33m\u001b[0m\u001b[0m\n\u001b[0m\u001b[0;32m      5\u001b[0m \u001b[0mprint\u001b[0m\u001b[1;33m(\u001b[0m\u001b[1;34m\"DOP\"\u001b[0m\u001b[1;33m)\u001b[0m\u001b[1;33m\u001b[0m\u001b[1;33m\u001b[0m\u001b[0m\n\u001b[0;32m      6\u001b[0m \u001b[0msolDOP\u001b[0m \u001b[1;33m=\u001b[0m \u001b[0msolve_ivp\u001b[0m\u001b[1;33m(\u001b[0m\u001b[0mrightF\u001b[0m\u001b[1;33m,\u001b[0m \u001b[1;33m(\u001b[0m\u001b[0mti\u001b[0m\u001b[1;33m,\u001b[0m \u001b[0mtf\u001b[0m\u001b[1;33m)\u001b[0m\u001b[1;33m,\u001b[0m \u001b[0mX_i\u001b[0m\u001b[1;33m,\u001b[0m \u001b[0mmethod\u001b[0m \u001b[1;33m=\u001b[0m \u001b[1;34m\"DOP853\"\u001b[0m\u001b[1;33m,\u001b[0m \u001b[0mjac\u001b[0m \u001b[1;33m=\u001b[0m \u001b[0mJacobi\u001b[0m\u001b[1;33m)\u001b[0m\u001b[1;31m#, rtol=1e-5, atol=1e-7)\u001b[0m\u001b[1;33m\u001b[0m\u001b[1;33m\u001b[0m\u001b[0m\n",
      "\u001b[1;32mc:\\users\\hridey\\appdata\\local\\programs\\python\\python39\\lib\\site-packages\\scipy\\integrate\\_ivp\\ivp.py\u001b[0m in \u001b[0;36msolve_ivp\u001b[1;34m(fun, t_span, y0, method, t_eval, dense_output, events, vectorized, args, **options)\u001b[0m\n\u001b[0;32m    574\u001b[0m     \u001b[0mstatus\u001b[0m \u001b[1;33m=\u001b[0m \u001b[1;32mNone\u001b[0m\u001b[1;33m\u001b[0m\u001b[1;33m\u001b[0m\u001b[0m\n\u001b[0;32m    575\u001b[0m     \u001b[1;32mwhile\u001b[0m \u001b[0mstatus\u001b[0m \u001b[1;32mis\u001b[0m \u001b[1;32mNone\u001b[0m\u001b[1;33m:\u001b[0m\u001b[1;33m\u001b[0m\u001b[1;33m\u001b[0m\u001b[0m\n\u001b[1;32m--> 576\u001b[1;33m         \u001b[0mmessage\u001b[0m \u001b[1;33m=\u001b[0m \u001b[0msolver\u001b[0m\u001b[1;33m.\u001b[0m\u001b[0mstep\u001b[0m\u001b[1;33m(\u001b[0m\u001b[1;33m)\u001b[0m\u001b[1;33m\u001b[0m\u001b[1;33m\u001b[0m\u001b[0m\n\u001b[0m\u001b[0;32m    577\u001b[0m \u001b[1;33m\u001b[0m\u001b[0m\n\u001b[0;32m    578\u001b[0m         \u001b[1;32mif\u001b[0m \u001b[0msolver\u001b[0m\u001b[1;33m.\u001b[0m\u001b[0mstatus\u001b[0m \u001b[1;33m==\u001b[0m \u001b[1;34m'finished'\u001b[0m\u001b[1;33m:\u001b[0m\u001b[1;33m\u001b[0m\u001b[1;33m\u001b[0m\u001b[0m\n",
      "\u001b[1;32mc:\\users\\hridey\\appdata\\local\\programs\\python\\python39\\lib\\site-packages\\scipy\\integrate\\_ivp\\base.py\u001b[0m in \u001b[0;36mstep\u001b[1;34m(self)\u001b[0m\n\u001b[0;32m    179\u001b[0m         \u001b[1;32melse\u001b[0m\u001b[1;33m:\u001b[0m\u001b[1;33m\u001b[0m\u001b[1;33m\u001b[0m\u001b[0m\n\u001b[0;32m    180\u001b[0m             \u001b[0mt\u001b[0m \u001b[1;33m=\u001b[0m \u001b[0mself\u001b[0m\u001b[1;33m.\u001b[0m\u001b[0mt\u001b[0m\u001b[1;33m\u001b[0m\u001b[1;33m\u001b[0m\u001b[0m\n\u001b[1;32m--> 181\u001b[1;33m             \u001b[0msuccess\u001b[0m\u001b[1;33m,\u001b[0m \u001b[0mmessage\u001b[0m \u001b[1;33m=\u001b[0m \u001b[0mself\u001b[0m\u001b[1;33m.\u001b[0m\u001b[0m_step_impl\u001b[0m\u001b[1;33m(\u001b[0m\u001b[1;33m)\u001b[0m\u001b[1;33m\u001b[0m\u001b[1;33m\u001b[0m\u001b[0m\n\u001b[0m\u001b[0;32m    182\u001b[0m \u001b[1;33m\u001b[0m\u001b[0m\n\u001b[0;32m    183\u001b[0m             \u001b[1;32mif\u001b[0m \u001b[1;32mnot\u001b[0m \u001b[0msuccess\u001b[0m\u001b[1;33m:\u001b[0m\u001b[1;33m\u001b[0m\u001b[1;33m\u001b[0m\u001b[0m\n",
      "\u001b[1;32mc:\\users\\hridey\\appdata\\local\\programs\\python\\python39\\lib\\site-packages\\scipy\\integrate\\_ivp\\rk.py\u001b[0m in \u001b[0;36m_step_impl\u001b[1;34m(self)\u001b[0m\n\u001b[0;32m    142\u001b[0m             \u001b[0mh_abs\u001b[0m \u001b[1;33m=\u001b[0m \u001b[0mnp\u001b[0m\u001b[1;33m.\u001b[0m\u001b[0mabs\u001b[0m\u001b[1;33m(\u001b[0m\u001b[0mh\u001b[0m\u001b[1;33m)\u001b[0m\u001b[1;33m\u001b[0m\u001b[1;33m\u001b[0m\u001b[0m\n\u001b[0;32m    143\u001b[0m \u001b[1;33m\u001b[0m\u001b[0m\n\u001b[1;32m--> 144\u001b[1;33m             y_new, f_new = rk_step(self.fun, t, y, self.f, h, self.A,\n\u001b[0m\u001b[0;32m    145\u001b[0m                                    self.B, self.C, self.K)\n\u001b[0;32m    146\u001b[0m             \u001b[0mscale\u001b[0m \u001b[1;33m=\u001b[0m \u001b[0matol\u001b[0m \u001b[1;33m+\u001b[0m \u001b[0mnp\u001b[0m\u001b[1;33m.\u001b[0m\u001b[0mmaximum\u001b[0m\u001b[1;33m(\u001b[0m\u001b[0mnp\u001b[0m\u001b[1;33m.\u001b[0m\u001b[0mabs\u001b[0m\u001b[1;33m(\u001b[0m\u001b[0my\u001b[0m\u001b[1;33m)\u001b[0m\u001b[1;33m,\u001b[0m \u001b[0mnp\u001b[0m\u001b[1;33m.\u001b[0m\u001b[0mabs\u001b[0m\u001b[1;33m(\u001b[0m\u001b[0my_new\u001b[0m\u001b[1;33m)\u001b[0m\u001b[1;33m)\u001b[0m \u001b[1;33m*\u001b[0m \u001b[0mrtol\u001b[0m\u001b[1;33m\u001b[0m\u001b[1;33m\u001b[0m\u001b[0m\n",
      "\u001b[1;32mc:\\users\\hridey\\appdata\\local\\programs\\python\\python39\\lib\\site-packages\\scipy\\integrate\\_ivp\\rk.py\u001b[0m in \u001b[0;36mrk_step\u001b[1;34m(fun, t, y, f, h, A, B, C, K)\u001b[0m\n\u001b[0;32m     61\u001b[0m     \u001b[0mK\u001b[0m\u001b[1;33m[\u001b[0m\u001b[1;36m0\u001b[0m\u001b[1;33m]\u001b[0m \u001b[1;33m=\u001b[0m \u001b[0mf\u001b[0m\u001b[1;33m\u001b[0m\u001b[1;33m\u001b[0m\u001b[0m\n\u001b[0;32m     62\u001b[0m     \u001b[1;32mfor\u001b[0m \u001b[0ms\u001b[0m\u001b[1;33m,\u001b[0m \u001b[1;33m(\u001b[0m\u001b[0ma\u001b[0m\u001b[1;33m,\u001b[0m \u001b[0mc\u001b[0m\u001b[1;33m)\u001b[0m \u001b[1;32min\u001b[0m \u001b[0menumerate\u001b[0m\u001b[1;33m(\u001b[0m\u001b[0mzip\u001b[0m\u001b[1;33m(\u001b[0m\u001b[0mA\u001b[0m\u001b[1;33m[\u001b[0m\u001b[1;36m1\u001b[0m\u001b[1;33m:\u001b[0m\u001b[1;33m]\u001b[0m\u001b[1;33m,\u001b[0m \u001b[0mC\u001b[0m\u001b[1;33m[\u001b[0m\u001b[1;36m1\u001b[0m\u001b[1;33m:\u001b[0m\u001b[1;33m]\u001b[0m\u001b[1;33m)\u001b[0m\u001b[1;33m,\u001b[0m \u001b[0mstart\u001b[0m\u001b[1;33m=\u001b[0m\u001b[1;36m1\u001b[0m\u001b[1;33m)\u001b[0m\u001b[1;33m:\u001b[0m\u001b[1;33m\u001b[0m\u001b[1;33m\u001b[0m\u001b[0m\n\u001b[1;32m---> 63\u001b[1;33m         \u001b[0mdy\u001b[0m \u001b[1;33m=\u001b[0m \u001b[0mnp\u001b[0m\u001b[1;33m.\u001b[0m\u001b[0mdot\u001b[0m\u001b[1;33m(\u001b[0m\u001b[0mK\u001b[0m\u001b[1;33m[\u001b[0m\u001b[1;33m:\u001b[0m\u001b[0ms\u001b[0m\u001b[1;33m]\u001b[0m\u001b[1;33m.\u001b[0m\u001b[0mT\u001b[0m\u001b[1;33m,\u001b[0m \u001b[0ma\u001b[0m\u001b[1;33m[\u001b[0m\u001b[1;33m:\u001b[0m\u001b[0ms\u001b[0m\u001b[1;33m]\u001b[0m\u001b[1;33m)\u001b[0m \u001b[1;33m*\u001b[0m \u001b[0mh\u001b[0m\u001b[1;33m\u001b[0m\u001b[1;33m\u001b[0m\u001b[0m\n\u001b[0m\u001b[0;32m     64\u001b[0m         \u001b[0mK\u001b[0m\u001b[1;33m[\u001b[0m\u001b[0ms\u001b[0m\u001b[1;33m]\u001b[0m \u001b[1;33m=\u001b[0m \u001b[0mfun\u001b[0m\u001b[1;33m(\u001b[0m\u001b[0mt\u001b[0m \u001b[1;33m+\u001b[0m \u001b[0mc\u001b[0m \u001b[1;33m*\u001b[0m \u001b[0mh\u001b[0m\u001b[1;33m,\u001b[0m \u001b[0my\u001b[0m \u001b[1;33m+\u001b[0m \u001b[0mdy\u001b[0m\u001b[1;33m)\u001b[0m\u001b[1;33m\u001b[0m\u001b[1;33m\u001b[0m\u001b[0m\n\u001b[0;32m     65\u001b[0m \u001b[1;33m\u001b[0m\u001b[0m\n",
      "\u001b[1;32m<__array_function__ internals>\u001b[0m in \u001b[0;36mdot\u001b[1;34m(*args, **kwargs)\u001b[0m\n",
      "\u001b[1;31mKeyboardInterrupt\u001b[0m: "
     ]
    }
   ],
   "source": [
    "print(\"Rk4\")\n",
    "solRK45 = solve_ivp(rightF, (ti, tf), X_i, method = \"RK45\", jac = Jacobi)#, rtol=1e-5, atol=1e-7)\n",
    "print(\"Rk2\")\n",
    "solRK23 = solve_ivp(rightF, (ti, tf), X_i, method = \"RK23\", jac = Jacobi)#, rtol=1e-5, atol=1e-7)\n",
    "print(\"DOP\")\n",
    "solDOP = solve_ivp(rightF, (ti, tf), X_i, method = \"DOP853\", jac = Jacobi)#, rtol=1e-5, atol=1e-7)\n",
    "print(\"RAD\")\n",
    "solRad = solve_ivp(rightF, (ti, tf), X_i, method = \"Radau\", jac = Jacobi)#, rtol=1e-5, atol=1e-7)\n",
    "print(\"BDF\")\n",
    "solBDF = solve_ivp(rightF, (ti, tf), X_i, method = \"BDF\", jac = Jacobi)#, rtol=1e-5, atol=1e-7)\n",
    "print(\"LSO\")\n",
    "solLSO = solve_ivp(rightF, (ti, tf), X_i, method = \"LSODA\", jac = Jacobi)#, rtol=1e-5, atol=1e-7)\n",
    "#solLSO = {\"nfev\":0}\n",
    "#print(solRK45)#solDOP853\n",
    "#solRadau\n",
    "#solBDF\n",
    "#solLSODA"
   ]
  },
  {
   "cell_type": "code",
   "execution_count": 18,
   "id": "6e1dbb15",
   "metadata": {
    "scrolled": true
   },
   "outputs": [
    {
     "name": "stdout",
     "output_type": "stream",
     "text": [
      "RK45 : 292832\n",
      "RK23 : 157985\n",
      "DOP853 : 247454\n",
      "Radau : 335\n",
      "BDF : 273\n",
      "LSODA : 189\n"
     ]
    }
   ],
   "source": [
    "SOL = [solRK45, solRK23, solDOP, solRad, solBDF, solLSO]\n",
    "names = [\"RK45\", \"RK23\", \"DOP853\", \"Radau\", \"BDF\", \"LSODA\"]\n",
    "\n",
    "for k in range(6):\n",
    "    print(names[k] + \" : \" + str(SOL[k][\"nfev\"]))\n"
   ]
  },
  {
   "cell_type": "markdown",
   "id": "2215f458",
   "metadata": {},
   "source": [
    "We can also now define certain routines to see how well they fare."
   ]
  },
  {
   "cell_type": "code",
   "execution_count": 19,
   "id": "560e2025",
   "metadata": {},
   "outputs": [],
   "source": [
    "def Euler(Func, yis, xi, xf, steps):\n",
    "    try:\n",
    "        dim = len(yis)\n",
    "    except:\n",
    "        dim = 1\n",
    "    delta_x = (xf-xi)/(steps+1)\n",
    "    XArray = np.linspace(xi, xf, steps)\n",
    "    YArray = np.zeros((steps, dim))\n",
    "    YArray[0] = yis\n",
    "    vals = np.array(yis)+0.\n",
    "    for i in range(1, steps):\n",
    "        YArray[i] = YArray[i-1] + delta_x*Func(XArray[i-1], YArray[i-1])\n",
    "    return {\"t\": XArray, \"y\": YArray.T, \"nfev\": steps-1}\n"
   ]
  },
  {
   "cell_type": "code",
   "execution_count": 20,
   "id": "4dbd7b67",
   "metadata": {},
   "outputs": [],
   "source": [
    "c_array = np.array([0, .5, .5, 1])\n",
    "b_array = np.array([1/6, 1/3, 1/3, 1/6])\n",
    "a_matrix = np.array([\n",
    "    [0, 0, 0, 0],\n",
    "    [.5, 0, 0, 0],\n",
    "    [0, 0.5, 0, 0],\n",
    "    [0, 0, 1, 0]])\n",
    "\n",
    "def RK4(Func, yis, xi, xf, steps):\n",
    "    try:\n",
    "        dim = len(yis)\n",
    "    except:\n",
    "        dim = 1\n",
    "    \n",
    "    delta_x = (xf-xi)/(steps-1)\n",
    "    #print(delta_x)\n",
    "    XArray = np.linspace(xi, xf, steps)\n",
    "    #print(XArray)\n",
    "    YArray = np.zeros((steps, dim))\n",
    "    YArray[0] = yis\n",
    "    vals = np.array(yis)+0.\n",
    "    k_array = np.zeros((len(c_array), dim))\n",
    "\n",
    "    for i in range(1, steps):\n",
    "            \n",
    "        for l in range(4):\n",
    "            k_array[l] = Func(XArray[i-1] +c_array[l], YArray[i-1] + delta_x*np.dot(a_matrix[l],k_array))\n",
    "        YArray[i] = YArray[i-1] + delta_x*np.dot(b_array, k_array)\n",
    "    \n",
    "    return {\"t\": XArray, \"y\": YArray.T, \"nfev\": 4*steps-4}\n",
    "\n",
    "    \n",
    "def semiImplicitEuler(Funcs, yis, xi, xf, steps):\n",
    "    \n",
    "    try:\n",
    "        dim = len(yis)\n",
    "    except:\n",
    "        dim = 1\n",
    "\n",
    "    \n",
    "    delta_x = (xf-xi)/(steps-1)\n",
    "    XArray = np.linspace(xi, xf, steps)\n",
    "    YArray = np.zeros((steps, dim))\n",
    "    YArray[0] = yis\n",
    "    vals = np.array(yis)+0.\n",
    "    Jacobian = np.zeros((dim, dim))\n",
    "    hy = delta_x\n",
    "    for i in range(1, steps):\n",
    "        yhere = YArray[i-1]\n",
    "        for j in range(dim):\n",
    "            yp = yhere.copy()\n",
    "            yp[j]+=hy\n",
    "            Jacobian[j] = (Funcs(XArray[i-1], yp)-Funcs(XArray[i-1], yhere))/hy\n",
    "        \n",
    "        YArray[i] = yhere + delta_x*np.dot(np.linalg.inv(np.identity(dim)-delta_x*Jacobian), Funcs(XArray[i-1], yhere)) \n",
    "    return {\"t\": XArray, \"y\": YArray.T, \"nfev\":  2*dim*(steps-1) + steps-1}\n",
    "\n",
    "def AdamsBashforth(Funcs, yis, xi, xf, steps):\n",
    "        \n",
    "    try:\n",
    "        dim = len(yis)\n",
    "    except:\n",
    "        dim = 1\n",
    "\n",
    "    \n",
    "    delta_x = (xf-xi)/(steps-1)\n",
    "    XArray = np.linspace(xi, xf, steps)\n",
    "    YArray = np.zeros((steps, dim))\n",
    "    YArray[0] = yis\n",
    "    YArray[1] = YArray[0] + delta_x*Funcs(xi, YArray[0])\n",
    "    vals = np.array(yis)+0.\n",
    "    Jacobian = np.zeros((dim, dim))\n",
    "    hy = delta_x\n",
    "    \n",
    "    for i in range(2, steps):\n",
    "        YArray[i] = YArray[i-1]+ 0.5*delta_x*(3*Funcs(XArray[i-1], YArray[i-1]) - Funcs(XArray[i-2], YArray[i-2]))\n",
    "    return {\"t\": XArray, \"y\": YArray.T, \"nfev\":  2*steps-2}\n",
    "\n",
    "    \n"
   ]
  },
  {
   "cell_type": "code",
   "execution_count": 21,
   "id": "c263a004",
   "metadata": {
    "scrolled": true
   },
   "outputs": [
    {
     "name": "stderr",
     "output_type": "stream",
     "text": [
      "C:\\Users\\Hridey\\AppData\\Local\\Temp/ipykernel_12916/3640884290.py:2: RuntimeWarning: overflow encountered in double_scalars\n",
      "  x0 = -0.04*X[0] + (1e4)*X[1]*X[2]\n",
      "C:\\Users\\Hridey\\AppData\\Local\\Temp/ipykernel_12916/3640884290.py:3: RuntimeWarning: overflow encountered in double_scalars\n",
      "  x1 = 0.04*X[0] -3*(1e7)*(X[1]**2) -(1e4)*X[1]*X[2]\n",
      "C:\\Users\\Hridey\\AppData\\Local\\Temp/ipykernel_12916/3640884290.py:3: RuntimeWarning: invalid value encountered in double_scalars\n",
      "  x1 = 0.04*X[0] -3*(1e7)*(X[1]**2) -(1e4)*X[1]*X[2]\n",
      "C:\\Users\\Hridey\\AppData\\Local\\Temp/ipykernel_12916/3640884290.py:4: RuntimeWarning: overflow encountered in double_scalars\n",
      "  x2 = 3*(1e7)*(X[1]**2)\n",
      "C:\\Users\\Hridey\\AppData\\Local\\Temp/ipykernel_12916/2863924268.py:53: RuntimeWarning: invalid value encountered in subtract\n",
      "  Jacobian[j] = (Funcs(XArray[i-1], yp)-Funcs(XArray[i-1], yhere))/hy\n"
     ]
    }
   ],
   "source": [
    "h=1e-3\n",
    "steps = int((xf-xi)/h) + 1\n",
    "solEul = Euler(rightF, X_i, ti, tf, steps) \n",
    "solRK4 = RK4(rightF, X_i, ti, tf, steps) \n",
    "solSIE = semiImplicitEuler(rightF, X_i, ti, tf, steps) \n",
    "solABM = AdamsBashforth(rightF, X_i, ti, tf, steps) "
   ]
  },
  {
   "cell_type": "code",
   "execution_count": 22,
   "id": "676f3962",
   "metadata": {},
   "outputs": [
    {
     "name": "stdout",
     "output_type": "stream",
     "text": [
      "RK45 : 292832\n",
      "RK23 : 157985\n",
      "DOP853 : 247454\n",
      "Radau : 335\n",
      "BDF : 273\n",
      "LSODA : 189\n",
      "Euler : 10000\n",
      "RK4 : 40000\n",
      "SemiEuler : 70000\n",
      "Adams : 20000\n"
     ]
    }
   ],
   "source": [
    "SOL = [solRK45, solRK23, solDOP, solRad, solBDF, solLSO, solEul, solRK4, solSIE, solABM]\n",
    "names = [\"RK45\", \"RK23\", \"DOP853\", \"Radau\", \"BDF\", \"LSODA\", \"Euler\", \"RK4\", \"SemiEuler\", \"Adams\"]\n",
    "\n",
    "for k in range(10):\n",
    "    print(names[k] + \" : \" + str(SOL[k][\"nfev\"]))\n"
   ]
  },
  {
   "cell_type": "code",
   "execution_count": 33,
   "id": "d9177991",
   "metadata": {
    "scrolled": true
   },
   "outputs": [
    {
     "name": "stdout",
     "output_type": "stream",
     "text": [
      "0\n",
      "3\n",
      "5\n"
     ]
    },
    {
     "data": {
      "image/png": "[encoded data removed]",
      "text/plain": [
       "<Figure size 432x288 with 1 Axes>"
      ]
     },
     "metadata": {
      "needs_background": "light"
     },
     "output_type": "display_data"
    },
    {
     "name": "stdout",
     "output_type": "stream",
     "text": [
      "0\n",
      "3\n",
      "5\n"
     ]
    },
    {
     "data": {
      "image/png": "[encoded data removed]",
      "text/plain": [
       "<Figure size 432x288 with 1 Axes>"
      ]
     },
     "metadata": {
      "needs_background": "light"
     },
     "output_type": "display_data"
    },
    {
     "name": "stdout",
     "output_type": "stream",
     "text": [
      "0\n",
      "3\n",
      "5\n"
     ]
    },
    {
     "data": {
      "image/png": "[encoded data removed]",
      "text/plain": [
       "<Figure size 432x288 with 1 Axes>"
      ]
     },
     "metadata": {
      "needs_background": "light"
     },
     "output_type": "display_data"
    }
   ],
   "source": [
    "iL = [0, 1, 2, 3]\n",
    "iL=[0, 3, 5]\n",
    "for k in range(3):\n",
    "    for i in iL:\n",
    "        print(i)\n",
    "        py.plot(SOL[i][\"t\"], SOL[i][\"y\"][k-1], label = names[i])\n",
    "    py.legend()\n",
    "    py.grid()\n",
    "    py.ylim((-0.1, 1.2))\n",
    "    py.title(\"For y_\" + str(k+1))\n",
    "    py.show()"
   ]
  },
  {
   "cell_type": "markdown",
   "id": "042f505f",
   "metadata": {},
   "source": [
    "## Van der Pol Oscillator\n",
    "\n",
    "Consider one more problem, on which we can test our solvers. Without going into the physical details, consider the system below:\n",
    "\n",
    "$$\n",
    "\\begin{aligned}\n",
    "\\dot{x} &=& y\\\\\n",
    "\\dot{y} &=&\\mu (1-x^2)y - x\n",
    "\\end{aligned}\n",
    "$$"
   ]
  },
  {
   "cell_type": "code",
   "execution_count": 24,
   "id": "50e0d9e9",
   "metadata": {},
   "outputs": [],
   "source": [
    "def vanderF(t, X):\n",
    "    return np.array([X[1], mu*(1-X[0]*X[0])*X[1] - X[0]])\n",
    "\n",
    "def Jacobvander(t, X):\n",
    "    Jaco = np.zeros((2, 2))\n",
    "    Jaco[0, 1] = 1\n",
    "    Jaco[1, 0] = X[1]*mu*(-2*X[0]) - 1\n",
    "    Jaco[1, 1] = mu*(1-X[0]*X[0])\n",
    "    return Jaco"
   ]
  },
  {
   "cell_type": "code",
   "execution_count": 25,
   "id": "88aed617",
   "metadata": {},
   "outputs": [
    {
     "name": "stdout",
     "output_type": "stream",
     "text": [
      "Rk4\n"
     ]
    },
    {
     "name": "stderr",
     "output_type": "stream",
     "text": [
      "c:\\users\\hridey\\appdata\\local\\programs\\python\\python39\\lib\\site-packages\\scipy\\integrate\\_ivp\\common.py:39: UserWarning: The following arguments have no effect for a chosen solver: `jac`.\n",
      "  warn(\"The following arguments have no effect for a chosen solver: {}.\"\n"
     ]
    },
    {
     "name": "stdout",
     "output_type": "stream",
     "text": [
      "Rk2\n",
      "DOP\n",
      "RAD\n",
      "BDF\n",
      "LSO\n"
     ]
    }
   ],
   "source": [
    "mu = 1000\n",
    "ti = 0\n",
    "tf = 20\n",
    "X_i = np.array([2, 0])\n",
    "print(\"Rk4\")\n",
    "solRK45 = solve_ivp(vanderF, (ti, tf), X_i, method = \"RK45\", jac = Jacobvander)#, rtol=1e-5, atol=1e-7)\n",
    "print(\"Rk2\")\n",
    "solRK23 = solve_ivp(vanderF, (ti, tf), X_i, method = \"RK23\", jac = Jacobvander)#, rtol=1e-5, atol=1e-7)\n",
    "print(\"DOP\")\n",
    "solDOP = solve_ivp(vanderF, (ti, tf), X_i, method = \"DOP853\", jac = Jacobvander)#, rtol=1e-5, atol=1e-7)\n",
    "print(\"RAD\")\n",
    "solRad = solve_ivp(vanderF, (ti, tf), X_i, method = \"Radau\", jac = Jacobvander)#, rtol=1e-5, atol=1e-7)\n",
    "print(\"BDF\")\n",
    "solBDF = solve_ivp(vanderF, (ti, tf), X_i, method = \"BDF\", jac = Jacobvander)#, rtol=1e-5, atol=1e-7)\n",
    "print(\"LSO\")\n",
    "solLSO = solve_ivp(vanderF, (ti, tf), X_i, method = \"LSODA\", jac = Jacobvander)#, rtol=1e-5, atol=1e-7)\n",
    "#solLSO = {\"nfev\":0}\n",
    "#print(solRK45)#solDOP853\n",
    "#solRadau\n",
    "#solBDF\n",
    "#solLSODA\n"
   ]
  },
  {
   "cell_type": "code",
   "execution_count": 26,
   "id": "00bd19cb",
   "metadata": {
    "scrolled": true
   },
   "outputs": [
    {
     "name": "stdout",
     "output_type": "stream",
     "text": [
      "RK45 : 126236\n",
      "RK23 : 71027\n",
      "DOP853 : 111698\n",
      "Radau : 92\n",
      "BDF : 99\n",
      "LSODA : 56\n"
     ]
    }
   ],
   "source": [
    "SOL = [solRK45, solRK23, solDOP, solRad, solBDF, solLSO]\n",
    "names = [\"RK45\", \"RK23\", \"DOP853\", \"Radau\", \"BDF\", \"LSODA\"]\n",
    "\n",
    "for k in range(6):\n",
    "    print(names[k] + \" : \" + str(SOL[k][\"nfev\"]))\n"
   ]
  },
  {
   "cell_type": "code",
   "execution_count": 27,
   "id": "9e5b712c",
   "metadata": {
    "scrolled": true
   },
   "outputs": [
    {
     "name": "stdout",
     "output_type": "stream",
     "text": [
      "0\n",
      "1\n",
      "2\n",
      "3\n"
     ]
    },
    {
     "data": {
      "image/png": "[encoded data removed]",
      "text/plain": [
       "<Figure size 432x288 with 1 Axes>"
      ]
     },
     "metadata": {
      "needs_background": "light"
     },
     "output_type": "display_data"
    },
    {
     "name": "stdout",
     "output_type": "stream",
     "text": [
      "0\n",
      "1\n",
      "2\n",
      "3\n"
     ]
    },
    {
     "data": {
      "image/png": "[encoded data removed]",
      "text/plain": [
       "<Figure size 432x288 with 1 Axes>"
      ]
     },
     "metadata": {
      "needs_background": "light"
     },
     "output_type": "display_data"
    }
   ],
   "source": [
    "iL = [0, 1, 2, 3]\n",
    "#iL=[0, 6, 5]\n",
    "for k in range(2):\n",
    "    for i in iL:\n",
    "        print(i)\n",
    "        py.plot(SOL[i][\"t\"], SOL[i][\"y\"][k], label = names[i])\n",
    "    py.legend()\n",
    "    py.grid()\n",
    "    #py.ylim((-0.1, 1.2))\n",
    "    py.title(\"For y_\" + str(k+1))\n",
    "    py.show()"
   ]
  },
  {
   "cell_type": "code",
   "execution_count": 28,
   "id": "cf82ed46",
   "metadata": {
    "scrolled": true
   },
   "outputs": [
    {
     "name": "stderr",
     "output_type": "stream",
     "text": [
      "C:\\Users\\Hridey\\AppData\\Local\\Temp/ipykernel_12916/1041248399.py:2: RuntimeWarning: overflow encountered in double_scalars\n",
      "  return np.array([X[1], mu*(1-X[0]*X[0])*X[1] - X[0]])\n",
      "C:\\Users\\Hridey\\AppData\\Local\\Temp/ipykernel_12916/200709432.py:12: RuntimeWarning: invalid value encountered in add\n",
      "  YArray[i] = YArray[i-1] + delta_x*Func(XArray[i-1], YArray[i-1])\n",
      "C:\\Users\\Hridey\\AppData\\Local\\Temp/ipykernel_12916/2863924268.py:76: RuntimeWarning: invalid value encountered in add\n",
      "  YArray[i] = YArray[i-1]+ 0.5*delta_x*(3*Funcs(XArray[i-1], YArray[i-1]) - Funcs(XArray[i-2], YArray[i-2]))\n"
     ]
    }
   ],
   "source": [
    "h=1e-3\n",
    "steps = int((xf-xi)/h) + 1\n",
    "solEul = Euler(vanderF, X_i, ti, tf, steps) \n",
    "solRK4 = RK4(vanderF, X_i, ti, tf, steps) \n",
    "solSIE = semiImplicitEuler(vanderF, X_i, ti, tf, steps) \n",
    "solABM = AdamsBashforth(vanderF, X_i, ti, tf, steps) "
   ]
  },
  {
   "cell_type": "code",
   "execution_count": 29,
   "id": "139cb593",
   "metadata": {
    "scrolled": true
   },
   "outputs": [
    {
     "name": "stdout",
     "output_type": "stream",
     "text": [
      "RK45 : 126236\n",
      "RK23 : 71027\n",
      "DOP853 : 111698\n",
      "Radau : 92\n",
      "BDF : 99\n",
      "LSODA : 56\n",
      "Euler : 10000\n",
      "RK4 : 40000\n",
      "SemiEuler : 50000\n",
      "Adams : 20000\n"
     ]
    }
   ],
   "source": [
    "SOL = [solRK45, solRK23, solDOP, solRad, solBDF, solLSO, solEul, solRK4, solSIE, solABM]\n",
    "names = [\"RK45\", \"RK23\", \"DOP853\", \"Radau\", \"BDF\", \"LSODA\", \"Euler\", \"RK4\", \"SemiEuler\", \"Adams\"]\n",
    "\n",
    "for k in range(10):\n",
    "    print(names[k] + \" : \" + str(SOL[k][\"nfev\"]))\n"
   ]
  },
  {
   "cell_type": "code",
   "execution_count": 30,
   "id": "be552dd3",
   "metadata": {},
   "outputs": [
    {
     "name": "stdout",
     "output_type": "stream",
     "text": [
      "0\n",
      "5\n",
      "8\n"
     ]
    },
    {
     "data": {
      "image/png": "[encoded data removed]",
      "text/plain": [
       "<Figure size 432x288 with 1 Axes>"
      ]
     },
     "metadata": {
      "needs_background": "light"
     },
     "output_type": "display_data"
    },
    {
     "name": "stdout",
     "output_type": "stream",
     "text": [
      "0\n",
      "5\n",
      "8\n"
     ]
    },
    {
     "data": {
      "image/png": "[encoded data removed]",
      "text/plain": [
       "<Figure size 432x288 with 1 Axes>"
      ]
     },
     "metadata": {
      "needs_background": "light"
     },
     "output_type": "display_data"
    }
   ],
   "source": [
    "iL = [0, 1, 2, 3]\n",
    "iL=[0, 5, 8]\n",
    "for k in range(2):\n",
    "    for i in iL:\n",
    "        print(i)\n",
    "        py.plot(SOL[i][\"t\"], SOL[i][\"y\"][k], label = names[i])\n",
    "    py.legend()\n",
    "    py.grid()\n",
    "    #py.ylim((-0.1, 1.2))\n",
    "    py.title(\"For y_\" + str(k+1))\n",
    "    py.show()"
   ]
  },
  {
   "cell_type": "markdown",
   "id": "1745c7cd",
   "metadata": {},
   "source": [
    "### References\n",
    "1. *Robertson's example for stiff differential equations*, M.K. Gobbert\n",
    "2. *Numerical Methods for ODEs*, J.D. Lambert\n",
    "3. *Numerical Recipies in FORTRAN*, W.H. Press et. al.\n",
    "4. *Van der Pol Oscillator*, Wikipedia\n",
    "5. *Stiff Equations*, Wikipedia\n",
    "6. *scipy.integrate.solve_ivp*, Scipy Manual"
   ]
  }
 ],
 "metadata": {
  "kernelspec": {
   "display_name": "Python 3 (ipykernel)",
   "language": "python",
   "name": "python3"
  },
  "language_info": {
   "codemirror_mode": {
    "name": "ipython",
    "version": 3
   },
   "file_extension": ".py",
   "mimetype": "text/x-python",
   "name": "python",
   "nbconvert_exporter": "python",
   "pygments_lexer": "ipython3",
   "version": "3.9.6"
  }
 },
 "nbformat": 4,
 "nbformat_minor": 5
}
